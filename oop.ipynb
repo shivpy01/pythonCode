{
 "cells": [
  {
   "cell_type": "code",
   "execution_count": 1,
   "id": "8566e122-813d-4a14-950b-0dd7a5919f97",
   "metadata": {},
   "outputs": [],
   "source": [
    "class Vehicle:\n",
    "    def __init__(self, color, type, model, brand, seats):\n",
    "        self.color = color\n",
    "        self.type = type\n",
    "        self.model = model\n",
    "        self.brand = brand\n",
    "        self.seats = seats\n",
    "\n",
    "    def __str__(self):\n",
    "        return f\"{self.brand}'s {self.model} in {self.color} color {self.type} and {self.seats} seats\""
   ]
  },
  {
   "cell_type": "code",
   "execution_count": 2,
   "id": "995114f5-9939-4c7e-a0db-4cd23e80d4d4",
   "metadata": {},
   "outputs": [],
   "source": [
    "x = Vehicle(\"white\",\"SUV\", \"Safari\",\"Tata\",\"7\")"
   ]
  },
  {
   "cell_type": "code",
   "execution_count": 3,
   "id": "0e662cf4-9f11-4dc2-8df7-1ededb980b85",
   "metadata": {},
   "outputs": [
    {
     "name": "stdout",
     "output_type": "stream",
     "text": [
      "Tata's Safari in white color SUV and 7 seats\n"
     ]
    }
   ],
   "source": [
    "print(x)"
   ]
  },
  {
   "cell_type": "code",
   "execution_count": 4,
   "id": "aaae58ab-550a-490e-a710-7f72da128a09",
   "metadata": {},
   "outputs": [
    {
     "data": {
      "text/plain": [
       "__main__.Vehicle"
      ]
     },
     "execution_count": 4,
     "metadata": {},
     "output_type": "execute_result"
    }
   ],
   "source": [
    "type(x)"
   ]
  },
  {
   "cell_type": "markdown",
   "id": "ee372122-828f-4f23-bf7a-1e88418a8a06",
   "metadata": {},
   "source": [
    "# Polymorphism"
   ]
  },
  {
   "cell_type": "markdown",
   "id": "d00a7836-c68a-4196-9a11-abb728d0775d",
   "metadata": {},
   "source": [
    "## overriding"
   ]
  },
  {
   "cell_type": "code",
   "execution_count": 5,
   "id": "43567615-001d-4123-93dd-6f2b71a5f2b9",
   "metadata": {},
   "outputs": [],
   "source": [
    "\n",
    "class EVs( Vehicle):\n",
    "    def __init__(self, color, type, model, brand, seats, isEv):\n",
    "        super().__init__(color, type, model, brand, seats)\n",
    "        self.ev = isEv\n",
    "\n",
    "    def __str__(self):\n",
    "        if self.ev:\n",
    "            return f\"{self.brand}'s {self.model} is {self.color} color {self.type} with {self.seats} seats is EV\"\n",
    "        return f\"{self.brand}'s {self.model} in {self.color} color {self.type} and {self.seats} seats is not EV\""
   ]
  },
  {
   "cell_type": "code",
   "execution_count": 6,
   "id": "2ceb4600-a8e5-4565-a77c-11e7e4f3a94f",
   "metadata": {},
   "outputs": [],
   "source": [
    "y = EVs(\"white\",\"SUV\",\"Safari\",\"Tata\",\"7\",False)"
   ]
  },
  {
   "cell_type": "code",
   "execution_count": 7,
   "id": "66155d97-0440-4b52-bfb0-2a5e028cc83d",
   "metadata": {},
   "outputs": [
    {
     "name": "stdout",
     "output_type": "stream",
     "text": [
      "Tata's Safari in white color SUV and 7 seats is not EV\n"
     ]
    }
   ],
   "source": [
    "print(y)"
   ]
  },
  {
   "cell_type": "markdown",
   "id": "bd5b74d6-aabd-467c-a876-41a0df7b319f",
   "metadata": {},
   "source": [
    "## overriding"
   ]
  },
  {
   "cell_type": "code",
   "execution_count": 8,
   "id": "66955b51-746d-4abb-a14a-2a1112a91a2d",
   "metadata": {},
   "outputs": [],
   "source": [
    "\n",
    "class Animal:\n",
    "    def voice(self):\n",
    "        print(\"animal speaks\")\n",
    "class Dog(Animal):\n",
    "    def voice(self):\n",
    "        print(\"dog barks\")"
   ]
  },
  {
   "cell_type": "code",
   "execution_count": 9,
   "id": "8545919a-e360-42c7-82b3-c3c627fe6397",
   "metadata": {},
   "outputs": [
    {
     "name": "stdout",
     "output_type": "stream",
     "text": [
      "dog barks\n"
     ]
    }
   ],
   "source": [
    "z = Dog()\n",
    "z.voice()"
   ]
  },
  {
   "cell_type": "markdown",
   "id": "3f6ac2af-e947-4ff1-a6c2-c4fd2e9c2bf4",
   "metadata": {},
   "source": [
    "# overloading"
   ]
  },
  {
   "cell_type": "code",
   "execution_count": 27,
   "id": "89bf967b-278d-410b-a650-0a66581256c7",
   "metadata": {},
   "outputs": [],
   "source": [
    "class Math:\n",
    "    def add(self, a, b, c=0):  # Same method, different parameters\n",
    "        return a + b + c"
   ]
  },
  {
   "cell_type": "code",
   "execution_count": 25,
   "id": "b98ebd6a-a066-47ec-a836-c9c073ce198a",
   "metadata": {},
   "outputs": [
    {
     "name": "stdout",
     "output_type": "stream",
     "text": [
      "5\n",
      "9\n"
     ]
    }
   ],
   "source": [
    "m = Math()\n",
    "print(m.add(2, 3))      # Output: 5\n",
    "print(m.add(2, 3, 4))   # Output: 9"
   ]
  },
  {
   "cell_type": "code",
   "execution_count": null,
   "id": "cdcfdc7c-15ef-4230-b870-984520f714b1",
   "metadata": {},
   "outputs": [],
   "source": []
  },
  {
   "cell_type": "code",
   "execution_count": null,
   "id": "477cb109-1a9b-4505-8bc4-16dfd2b4d1b5",
   "metadata": {},
   "outputs": [],
   "source": []
  },
  {
   "cell_type": "code",
   "execution_count": null,
   "id": "e132ae5c-ef36-4bc2-9541-c8d32e4c47bd",
   "metadata": {},
   "outputs": [],
   "source": []
  },
  {
   "cell_type": "markdown",
   "id": "14b8cc6b-a509-4eeb-9ed0-e80d45f06c56",
   "metadata": {},
   "source": [
    "# Inheritance"
   ]
  },
  {
   "cell_type": "markdown",
   "id": "58c12bcd-248d-4dd2-95a3-c396cb7ad4f4",
   "metadata": {},
   "source": [
    "## multilevel inheritance"
   ]
  },
  {
   "cell_type": "code",
   "execution_count": 10,
   "id": "9b621447-e69a-4bca-b6a3-869f3e6f4f19",
   "metadata": {},
   "outputs": [],
   "source": [
    "\n",
    "class TruckEV(EVs):\n",
    "    def __init__(self,color, type, model, brand, seats, isEv, wheel):\n",
    "         super().__init__(color, type, model, brand, seats, isEv)\n",
    "         self.wheel = wheel\n",
    "        \n",
    "    def __str__(self):\n",
    "        if self.wheel>5 and self.ev:\n",
    "            return f\"{self.brand}'s {self.model} is {self.color} color {self.type} with {self.seats} seats is EV Truck\"\n",
    "        return f\"{self.brand}'s {self.model} in {self.color} color {self.type} and {self.seats} seats is not EV Truck\""
   ]
  },
  {
   "cell_type": "code",
   "execution_count": 11,
   "id": "c9ac6b93-fa03-45a1-8ad4-d7bd080586fb",
   "metadata": {},
   "outputs": [],
   "source": [
    "a = TruckEV(\"white\",\"SUV\",\"Safari\",\"Tata\",\"7\",False,8)"
   ]
  },
  {
   "cell_type": "code",
   "execution_count": 12,
   "id": "d870b60e-0614-446a-825a-259c1946372a",
   "metadata": {},
   "outputs": [
    {
     "name": "stdout",
     "output_type": "stream",
     "text": [
      "Tata's Safari in white color SUV and 7 seats is not EV Truck\n"
     ]
    }
   ],
   "source": [
    "print(a)"
   ]
  },
  {
   "cell_type": "markdown",
   "id": "664a2302-1ebc-4e14-8114-81a6110d09e3",
   "metadata": {},
   "source": [
    "## Multiple inheritance"
   ]
  },
  {
   "cell_type": "code",
   "execution_count": 13,
   "id": "bca74861-a798-4cb7-a4b8-7a3254ab5101",
   "metadata": {},
   "outputs": [
    {
     "name": "stdout",
     "output_type": "stream",
     "text": [
      "Base Area: 16\n",
      "Lateral Surface Area: 40\n",
      "Total Surface Area: 56\n"
     ]
    }
   ],
   "source": [
    "\n",
    "class Base:\n",
    "    def __init__(self, side):\n",
    "        self.side = side\n",
    "\n",
    "    def base_area(self):\n",
    "        return self.side ** 2  # Area of square base\n",
    "\n",
    "class Lateral:\n",
    "    def __init__(self, side, slant_height):\n",
    "        self.side = side\n",
    "        self.slant_height = slant_height\n",
    "\n",
    "    def lateral_area(self):\n",
    "        return 2 * self.side * self.slant_height  # Lateral surface area\n",
    "\n",
    "class Pyramid(Base, Lateral):\n",
    "    def __init__(self, side, slant_height):\n",
    "        # Initialize both parent classes\n",
    "        Base.__init__(self, side)\n",
    "        Lateral.__init__(self, side, slant_height)\n",
    "\n",
    "    def total_surface_area(self):\n",
    "        return self.base_area() + self.lateral_area()  # Total surface area\n",
    "\n",
    "# Example usage:\n",
    "side_length = 4\n",
    "slant_height = 5\n",
    "pyramid = Pyramid(side_length, slant_height)\n",
    "\n",
    "print(\"Base Area:\", pyramid.base_area())  \n",
    "print(\"Lateral Surface Area:\", pyramid.lateral_area())  \n",
    "print(\"Total Surface Area:\", pyramid.total_surface_area())"
   ]
  },
  {
   "cell_type": "code",
   "execution_count": null,
   "id": "fd8b30bd-6960-43a3-820e-072cc2763e0f",
   "metadata": {},
   "outputs": [],
   "source": []
  },
  {
   "cell_type": "code",
   "execution_count": null,
   "id": "0404d5b6-0f9b-41b4-b60b-61eb7b87a94e",
   "metadata": {},
   "outputs": [],
   "source": []
  },
  {
   "cell_type": "code",
   "execution_count": null,
   "id": "86e62d1e-fb5d-4d13-a1fa-1f4c2d965c5e",
   "metadata": {},
   "outputs": [],
   "source": []
  },
  {
   "cell_type": "code",
   "execution_count": null,
   "id": "3c6a14d5-2b93-4f2c-aeba-aefe0d9ad567",
   "metadata": {},
   "outputs": [],
   "source": []
  },
  {
   "cell_type": "markdown",
   "id": "badee86b-a471-44cd-a82d-77d796a26345",
   "metadata": {},
   "source": [
    "# Variables"
   ]
  },
  {
   "cell_type": "code",
   "execution_count": 14,
   "id": "fe91dcc4-923b-426d-b5fc-32ced7ca84e6",
   "metadata": {},
   "outputs": [
    {
     "name": "stdout",
     "output_type": "stream",
     "text": [
      "Toyota\n",
      "Blue\n"
     ]
    }
   ],
   "source": [
    "class Car:\n",
    "    def __init__(self, brand, color):\n",
    "        self.brand = brand  # Instance variable\n",
    "        self.color = color  # Instance variable\n",
    "\n",
    "# Creating instances (objects)\n",
    "car1 = Car(\"Toyota\", \"Red\")\n",
    "car2 = Car(\"Honda\", \"Blue\")\n",
    "\n",
    "print(car1.brand)  # Toyota\n",
    "print(car2.color)  # Blue\n"
   ]
  },
  {
   "cell_type": "code",
   "execution_count": 15,
   "id": "1e1e864b-a763-4b6f-a04a-84a18ff90279",
   "metadata": {},
   "outputs": [
    {
     "name": "stdout",
     "output_type": "stream",
     "text": [
      "4\n",
      "4\n",
      "6\n",
      "6\n"
     ]
    }
   ],
   "source": [
    "class Car:\n",
    "    wheels = 4  # Class variable (common for all cars)\n",
    "\n",
    "    def __init__(self, brand):\n",
    "        self.brand = brand  # Instance variable\n",
    "\n",
    "car1 = Car(\"Toyota\")\n",
    "car2 = Car(\"Honda\")\n",
    "\n",
    "print(car1.wheels)  # 4\n",
    "print(car2.wheels)  # 4\n",
    "\n",
    "Car.wheels = 6  # Changing the class variable\n",
    "\n",
    "print(car1.wheels)  # 6 (Updated for all instances)\n",
    "print(car2.wheels)  # 6 (Updated for all instances)\n"
   ]
  },
  {
   "cell_type": "code",
   "execution_count": 16,
   "id": "9ecba722-c0ae-404a-b8e9-ec5cd1a75d14",
   "metadata": {},
   "outputs": [
    {
     "name": "stdout",
     "output_type": "stream",
     "text": [
      "Hello, Python!\n"
     ]
    }
   ],
   "source": [
    "class Test:\n",
    "    def show(self):\n",
    "        message = \"Hello, Python!\"  \n",
    "        print(message)\n",
    "\n",
    "obj = Test()\n",
    "obj.show()  \n",
    "\n",
    "# print(message)\n"
   ]
  },
  {
   "cell_type": "code",
   "execution_count": null,
   "id": "e48707c8-bff4-423d-984c-5d86c1732efb",
   "metadata": {},
   "outputs": [],
   "source": []
  },
  {
   "cell_type": "code",
   "execution_count": null,
   "id": "3ad022d4-3b54-4cc7-aabd-aabffed743b4",
   "metadata": {},
   "outputs": [],
   "source": []
  },
  {
   "cell_type": "markdown",
   "id": "3a33d9ce-b659-4bb5-82d0-977d4d24c5c8",
   "metadata": {},
   "source": [
    "# Methods\n",
    "\n",
    "#### When to Use Which Method?\n",
    "Method Type\tWhen to Use?\n",
    "\t\n",
    "\t\n",
    "\t\n",
    "\n",
    "| variable    | use |\n",
    "| -------- | ------- |\n",
    "| Instance Method  | When the method needs to work with instance variables (self.variable).    |\n",
    "| Class Method | When the method should modify or work with class variables (cls.variable).     |\n",
    "| Static Method    |   When you need a utility function inside the class that doesn't use instance/class variables.  |\n"
   ]
  },
  {
   "cell_type": "markdown",
   "id": "888187e4-ea44-4682-a9bf-9e9f40d471fe",
   "metadata": {},
   "source": [
    "### Instance Methods\n",
    "Defined using def method_name(self).\n",
    "\n",
    "Can access and modify instance variables (self.variable).\n",
    "\n",
    "Need an instance to be called."
   ]
  },
  {
   "cell_type": "code",
   "execution_count": 17,
   "id": "7bf3d423-6540-4b3b-bbf4-b0ddb13e8ecd",
   "metadata": {},
   "outputs": [
    {
     "name": "stdout",
     "output_type": "stream",
     "text": [
      "Car Brand: Toyota, Color: Red\n",
      "Car Brand: Honda, Color: Blue\n"
     ]
    }
   ],
   "source": [
    "class Car:\n",
    "    def __init__(self, brand, color):\n",
    "        self.brand = brand  # Instance variable\n",
    "        self.color = color  # Instance variable\n",
    "\n",
    "    def show_details(self):  # Instance Method\n",
    "        print(f\"Car Brand: {self.brand}, Color: {self.color}\")\n",
    "\n",
    "# Creating objects\n",
    "car1 = Car(\"Toyota\", \"Red\")\n",
    "car2 = Car(\"Honda\", \"Blue\")\n",
    "\n",
    "car1.show_details()  # Car Brand: Toyota, Color: Red\n",
    "car2.show_details()  # Car Brand: Honda, Color: Blue\n"
   ]
  },
  {
   "cell_type": "markdown",
   "id": "8d3bdadd-a3b6-425a-82db-e7dc4f8e440d",
   "metadata": {},
   "source": [
    "### Class Methods\n",
    "Defined using @classmethod and cls as the first parameter.\n",
    "\n",
    "Can access and modify class variables (cls.variable).\n",
    "\n",
    "Can be called using the class name or an instance."
   ]
  },
  {
   "cell_type": "code",
   "execution_count": 18,
   "id": "9e8245cd-ceec-42ff-b92f-519ffee2f0ef",
   "metadata": {},
   "outputs": [
    {
     "name": "stdout",
     "output_type": "stream",
     "text": [
      "6\n"
     ]
    }
   ],
   "source": [
    "class Car:\n",
    "    wheels = 4  # Class Variable\n",
    "\n",
    "    @classmethod\n",
    "    def change_wheels(cls, new_wheels):\n",
    "        cls.wheels = new_wheels  # Modifies class variable\n",
    "\n",
    "# Calling class method\n",
    "Car.change_wheels(6)\n",
    "print(Car.wheels)  # Output: 6\n"
   ]
  },
  {
   "cell_type": "markdown",
   "id": "d2e1359a-64d7-429f-a867-6fb8dbd75a0e",
   "metadata": {},
   "source": [
    "### Static Methods\n",
    "Defined using @staticmethod.\n",
    "\n",
    "Does not use self or cls (no instance or class variable access).\n",
    "\n",
    "Works as an independent utility function inside the class."
   ]
  },
  {
   "cell_type": "code",
   "execution_count": 19,
   "id": "bf21dbac-d5ee-4648-b058-b62b0497eeb4",
   "metadata": {},
   "outputs": [
    {
     "name": "stdout",
     "output_type": "stream",
     "text": [
      "8\n"
     ]
    }
   ],
   "source": [
    "class MathOperations:\n",
    "    @staticmethod\n",
    "    def add(a, b):\n",
    "        return a + b\n",
    "\n",
    "# Calling static method\n",
    "print(MathOperations.add(5, 3))\n"
   ]
  },
  {
   "cell_type": "code",
   "execution_count": null,
   "id": "060eee1f-654b-4e8f-afb7-654bdbd6e34e",
   "metadata": {},
   "outputs": [],
   "source": []
  },
  {
   "cell_type": "code",
   "execution_count": null,
   "id": "6250ab12-aade-403d-a5a1-a34512fa9ea4",
   "metadata": {},
   "outputs": [],
   "source": []
  },
  {
   "cell_type": "code",
   "execution_count": 20,
   "id": "59fe0b02-8840-40cf-a7bf-3a9326855bff",
   "metadata": {},
   "outputs": [
    {
     "name": "stdout",
     "output_type": "stream",
     "text": [
      "Employee: Alice, Salary: 5000\n",
      "Microsoft\n",
      "Welcome to the company!\n"
     ]
    }
   ],
   "source": [
    "class Employee:\n",
    "    company = \"Google\"  # Class Variable\n",
    "\n",
    "    def __init__(self, name, salary):\n",
    "        self.name = name  # Instance Variable\n",
    "        self.salary = salary  # Instance Variable\n",
    "\n",
    "    def show(self):  # Instance Method\n",
    "        print(f\"Employee: {self.name}, Salary: {self.salary}\")\n",
    "\n",
    "    @classmethod\n",
    "    def change_company(cls, new_company):  # Class Method\n",
    "        cls.company = new_company\n",
    "\n",
    "    @staticmethod\n",
    "    def greet():  # Static Method\n",
    "        print(\"Welcome to the company!\")\n",
    "\n",
    "# Using instance method\n",
    "e1 = Employee(\"Alice\", 5000)\n",
    "e1.show()  # Employee: Alice, Salary: 5000\n",
    "\n",
    "# Using class method\n",
    "Employee.change_company(\"Microsoft\")\n",
    "print(Employee.company)  # Microsoft\n",
    "\n",
    "# Using static method\n",
    "Employee.greet()  # Welcome to the company!\n"
   ]
  },
  {
   "cell_type": "code",
   "execution_count": null,
   "id": "8b1b4f3e-94f2-4870-b74a-da40c4705906",
   "metadata": {},
   "outputs": [],
   "source": []
  },
  {
   "cell_type": "markdown",
   "id": "32b0081c-f71f-4157-b666-79460536c0f5",
   "metadata": {},
   "source": [
    "# Encapsulization\n",
    "\n",
    "Encapsulation protects data by restricting access using:\n",
    "\n",
    "✅ Public (variable) – Accessible everywhere.\n",
    "\n",
    "✅ Protected (_variable) – Accessible within class & subclasses.\n",
    "\n",
    "✅ Private (__variable) – Only accessible within the class."
   ]
  },
  {
   "cell_type": "code",
   "execution_count": 21,
   "id": "05853385-eb2b-46b3-b835-7c19b5366821",
   "metadata": {},
   "outputs": [
    {
     "name": "stdout",
     "output_type": "stream",
     "text": [
      "1000\n"
     ]
    }
   ],
   "source": [
    "class BankAccount:\n",
    "    def __init__(self, balance):\n",
    "        self.__balance = balance  # Private variable\n",
    "\n",
    "    def get_balance(self):\n",
    "        return self.__balance  # Accessing private variable\n",
    "\n",
    "account = BankAccount(1000)\n",
    "# print(account.__balance)  # ❌ ERROR: Cannot access directly\n",
    "print(account.get_balance())  # ✅ Output: 1000\n"
   ]
  },
  {
   "cell_type": "code",
   "execution_count": null,
   "id": "7fcf2320-4cbf-4356-b707-af36948316fd",
   "metadata": {},
   "outputs": [],
   "source": []
  },
  {
   "cell_type": "markdown",
   "id": "a42096ff-f67b-499f-ae88-455f3b132d01",
   "metadata": {},
   "source": [
    "# Abstraction\n",
    "\n",
    "Abstraction hides unnecessary details and only shows the relevant information using abstract classes."
   ]
  },
  {
   "cell_type": "code",
   "execution_count": 22,
   "id": "85474939-3cbd-47d9-a13b-efe2e6ef77ac",
   "metadata": {},
   "outputs": [
    {
     "name": "stdout",
     "output_type": "stream",
     "text": [
      "Dog barks\n"
     ]
    }
   ],
   "source": [
    "from abc import ABC, abstractmethod\n",
    "\n",
    "class Animal(ABC):  # Abstract Class\n",
    "    @abstractmethod\n",
    "    def sound(self):\n",
    "        pass  # Abstract Method\n",
    "\n",
    "class Dog(Animal):\n",
    "    def sound(self):\n",
    "        print(\"Dog barks\")\n",
    "\n",
    "d = Dog()\n",
    "d.sound()  # Output: Dog barks\n"
   ]
  },
  {
   "cell_type": "code",
   "execution_count": null,
   "id": "25a1bfc5-8518-4a0f-aaed-10dcf9f571ba",
   "metadata": {},
   "outputs": [],
   "source": []
  },
  {
   "cell_type": "code",
   "execution_count": null,
   "id": "bd51439d-e3f8-4471-8fb4-5ef970edcd01",
   "metadata": {},
   "outputs": [],
   "source": []
  },
  {
   "cell_type": "code",
   "execution_count": null,
   "id": "33e295c6-0163-4da3-abf4-a7a5cb5fbcc0",
   "metadata": {},
   "outputs": [],
   "source": []
  },
  {
   "cell_type": "code",
   "execution_count": null,
   "id": "e0e26690-6b0b-4fef-b35c-8db11e07066f",
   "metadata": {},
   "outputs": [],
   "source": []
  },
  {
   "cell_type": "markdown",
   "id": "ba9e3e73-4a17-4d3d-b34c-d5d637e98ee2",
   "metadata": {},
   "source": [
    "# Real World example"
   ]
  },
  {
   "cell_type": "code",
   "execution_count": 28,
   "id": "75765087-8aba-4e3f-a134-42c4cd5f0945",
   "metadata": {},
   "outputs": [
    {
     "name": "stdout",
     "output_type": "stream",
     "text": [
      "\n",
      "Available Books in Library:\n",
      "Python Basics by John Doe - Available\n",
      "OOP in Python by Jane Smith - Available\n",
      "Machine Learning by Alice Brown - Available\n",
      "Alex borrowed 'Python Basics'.\n",
      "Teacher Mr. Smith has priority borrowing.\n",
      "Mr. Smith borrowed 'OOP in Python'.\n",
      "\n",
      "Available Books in Library:\n",
      "Python Basics by John Doe - Borrowed\n",
      "OOP in Python by Jane Smith - Borrowed\n",
      "Machine Learning by Alice Brown - Available\n",
      "Alex returned 'Python Basics'.\n",
      "\n",
      "Available Books in Library:\n",
      "Python Basics by John Doe - Available\n",
      "OOP in Python by Jane Smith - Borrowed\n",
      "Machine Learning by Alice Brown - Available\n"
     ]
    }
   ],
   "source": [
    "class Book:\n",
    "    def __init__(self, title, author):\n",
    "        self.title = title\n",
    "        self.author = author\n",
    "        self.__is_available = True  # Private variable\n",
    "\n",
    "    def borrow(self):\n",
    "        if self.__is_available:\n",
    "            self.__is_available = False\n",
    "            return True\n",
    "        else:\n",
    "            return False\n",
    "\n",
    "    def return_book(self):\n",
    "        self.__is_available = True\n",
    "\n",
    "    def is_available(self):\n",
    "        return self.__is_available\n",
    "\n",
    "\n",
    "class Library:\n",
    "    def __init__(self):\n",
    "        self.books = []  # List to store Book objects\n",
    "\n",
    "    def add_book(self, book):\n",
    "        self.books.append(book)\n",
    "\n",
    "    def show_books(self):\n",
    "        print(\"\\nAvailable Books in Library:\")\n",
    "        for book in self.books:\n",
    "            status = \"Available\" if book.is_available() else \"Borrowed\"\n",
    "            print(f\"{book.title} by {book.author} - {status}\")\n",
    "\n",
    "\n",
    "class User:\n",
    "    def __init__(self, name):\n",
    "        self.name = name\n",
    "\n",
    "    def borrow_book(self, library, book_title):\n",
    "        for book in library.books:\n",
    "            if book.title == book_title and book.borrow():\n",
    "                print(f\"{self.name} borrowed '{book_title}'.\")\n",
    "                return\n",
    "        print(f\"Sorry, '{book_title}' is not available.\")\n",
    "\n",
    "    def return_book(self, library, book_title):\n",
    "        for book in library.books:\n",
    "            if book.title == book_title:\n",
    "                book.return_book()\n",
    "                print(f\"{self.name} returned '{book_title}'.\")\n",
    "                return\n",
    "        print(f\"{book_title} does not belong to this library!\")\n",
    "\n",
    "# Inheritance\n",
    "class Student(User):\n",
    "    pass  # Inherits borrow_book() and return_book()\n",
    "\n",
    "class Teacher(User):\n",
    "    def borrow_book(self, library, book_title):\n",
    "        print(f\"Teacher {self.name} has priority borrowing.\")\n",
    "        super().borrow_book(library, book_title)  # Calls parent method\n",
    "\n",
    "\n",
    "# Create library\n",
    "library = Library()\n",
    "\n",
    "# Add books to library\n",
    "library.add_book(Book(\"Python Basics\", \"John Doe\"))\n",
    "library.add_book(Book(\"OOP in Python\", \"Jane Smith\"))\n",
    "library.add_book(Book(\"Machine Learning\", \"Alice Brown\"))\n",
    "\n",
    "# Create users\n",
    "student = Student(\"Alex\")\n",
    "teacher = Teacher(\"Mr. Smith\")\n",
    "\n",
    "# Show available books\n",
    "library.show_books()\n",
    "\n",
    "# Borrow books\n",
    "student.borrow_book(library, \"Python Basics\")\n",
    "teacher.borrow_book(library, \"OOP in Python\")\n",
    "\n",
    "# Show books after borrowing\n",
    "library.show_books()\n",
    "\n",
    "# Return books\n",
    "student.return_book(library, \"Python Basics\")\n",
    "library.show_books()\n"
   ]
  },
  {
   "cell_type": "code",
   "execution_count": null,
   "id": "6f020ffe-9095-42c3-b459-b8ec638c3b4a",
   "metadata": {},
   "outputs": [],
   "source": []
  },
  {
   "cell_type": "code",
   "execution_count": null,
   "id": "532e4829-6020-4de0-932c-7763aceeb1c2",
   "metadata": {},
   "outputs": [],
   "source": []
  },
  {
   "cell_type": "code",
   "execution_count": null,
   "id": "fa9a9da7-9560-4230-9ec1-639219751973",
   "metadata": {},
   "outputs": [],
   "source": []
  },
  {
   "cell_type": "markdown",
   "id": "770f0b90-e75f-4d8a-8e53-3b51ee6e2b56",
   "metadata": {},
   "source": [
    "# operator overloading using magic methods"
   ]
  },
  {
   "cell_type": "code",
   "execution_count": 30,
   "id": "de0a01f7-7cdb-4763-8563-97a3ef8c2459",
   "metadata": {},
   "outputs": [
    {
     "name": "stdout",
     "output_type": "stream",
     "text": [
      "New Point: (6, 8)\n"
     ]
    }
   ],
   "source": [
    "class Point:\n",
    "    def __init__(self, x, y):\n",
    "        self.x = x\n",
    "        self.y = y\n",
    "\n",
    "    def __add__(self, other):  # Overloading +\n",
    "        return Point(self.x + other.x, self.y + other.y)\n",
    "\n",
    "# Creating objects\n",
    "p1 = Point(2, 3)\n",
    "p2 = Point(4, 5)\n",
    "\n",
    "p3 = p1 + p2  # Calls __add__()\n",
    "print(f\"New Point: ({p3.x}, {p3.y})\")  # Output: (6, 8)"
   ]
  },
  {
   "cell_type": "markdown",
   "id": "d38858e0-3c0b-46d5-880f-c23f96d9bfd0",
   "metadata": {},
   "source": [
    "# Access Modifiers (Public, Protected, Private)\n",
    "Python does not have true private variables, but we can use conventions:\n",
    "\n",
    "| Modifier | Syntax | Access Scope |\n",
    "|---|---|---|\n",
    "| Public | self.name | Accessible everywhere |\n",
    "| Protected | self._name | Accessible in class and subclasses |\n",
    "| Private | self.__name | Accessible only inside the class |\n",
    "\n",
    "🔹 **Example: Access Modifiers**"
   ]
  },
  {
   "cell_type": "code",
   "execution_count": 35,
   "id": "a423df1d-fe3b-4394-b988-b09db67b0981",
   "metadata": {},
   "outputs": [
    {
     "name": "stdout",
     "output_type": "stream",
     "text": [
      "Alice\n",
      "30\n",
      "5000\n"
     ]
    }
   ],
   "source": [
    "class Person:\n",
    "    def __init__(self, name, age):\n",
    "        self.name = name       # Public\n",
    "        self._age = age        # Protected\n",
    "        self.__salary = 5000   # Private\n",
    "\n",
    "p = Person(\"Alice\", 30)\n",
    "print(p.name)      # ✅ Public: Accessible\n",
    "print(p._age)      # ✅ Protected: Accessible but not recommended\n",
    "# print(p.__salary)  # ❌ ERROR: Private variable not accessible\n",
    "print(p._Person__salary)  # ✅ Private Name Mangling\n"
   ]
  },
  {
   "cell_type": "code",
   "execution_count": null,
   "id": "a7cfda6a-1f02-4f5d-b7a4-fe529e2f12cb",
   "metadata": {},
   "outputs": [],
   "source": []
  },
  {
   "cell_type": "markdown",
   "id": "4fe81367-2b62-4be2-93f0-6ed2793d4aef",
   "metadata": {},
   "source": [
    "# Duck Typing"
   ]
  },
  {
   "cell_type": "code",
   "execution_count": 34,
   "id": "d142dba9-5ae3-4c4a-941a-daee4167097c",
   "metadata": {},
   "outputs": [
    {
     "name": "stdout",
     "output_type": "stream",
     "text": [
      "Bark\n",
      "Meow\n"
     ]
    }
   ],
   "source": [
    "class Dog:\n",
    "    def speak(self):\n",
    "        return \"Bark\"\n",
    "\n",
    "class Cat:\n",
    "    def speak(self):\n",
    "        return \"Meow\"\n",
    "\n",
    "def animal_sound(animal):\n",
    "    print(animal.speak())\n",
    "\n",
    "animal_sound(Dog())  # Output: Bark\n",
    "animal_sound(Cat())  # Output: Meow\n"
   ]
  },
  {
   "cell_type": "markdown",
   "id": "bf18d482-a4b0-4980-b4e5-29b0af744da3",
   "metadata": {},
   "source": [
    "# Solid Principles\n",
    "\n",
    "Let me break down the SOLID principles with some key explanations:\n",
    "\n",
    "## Single Responsibility Principle (SRP): \n",
    "\n",
    "A class should have only one reason to change\\\n",
    "Each class should focus on a single, well-defined task\\\n",
    "In the example, EmailSender and EmailValidator have distinct, separate responsibilities\n",
    "\n",
    "\n",
    "## Open/Closed Principle (OCP):\n",
    "\n",
    "Classes should be open for extension but closed for modification\\\n",
    "You can add new functionality by creating new classes that inherit from a base class\\\n",
    "The Shape example shows how we can add new shapes (Circle, Rectangle) without modifying existing code\n",
    "\n",
    "\n",
    "## Liskov Substitution Principle (LSP):\n",
    "\n",
    "Objects of a superclass should be replaceable with objects of its subclasses\\\n",
    "The example with Bird, Eagle, and Penguin demonstrates a potential violation\\\n",
    "Subclasses should maintain the expected behavior of the base class\n",
    "\n",
    "\n",
    "## Interface Segregation Principle (ISP):\n",
    "\n",
    "Many client-specific interfaces are better than one general-purpose interface\\\n",
    "Clients should not be forced to depend on methods they do not use\\\n",
    "The Printer and Scanner interfaces allow for more flexible implementations\n",
    "\n",
    "\n",
    "## Dependency Inversion Principle (DIP):\n",
    "\n",
    "High-level modules should not depend on low-level modules\\\n",
    "Both should depend on abstractions\\\n",
    "The NotificationService can work with any MessageService through abstraction\n",
    "\n",
    "\n",
    "\n",
    "These principles help create more maintainable, flexible, and scalable code by promoting loose coupling, high cohesion, and easier extension of software systems."
   ]
  },
  {
   "cell_type": "code",
   "execution_count": null,
   "id": "a3e9610d-80b0-4e77-8bce-382acbdda465",
   "metadata": {},
   "outputs": [],
   "source": []
  },
  {
   "cell_type": "code",
   "execution_count": 1,
   "id": "709bbd9a-d09a-4376-b64e-f4bc2f3e0125",
   "metadata": {},
   "outputs": [
    {
     "name": "stdout",
     "output_type": "stream",
     "text": [
      "Email is valid: True\n",
      "Sending email: Hello, World!\n",
      "Area: 15\n",
      "Area: 50.24\n",
      "Sending email: Email notification\n",
      "Sending SMS: SMS notification\n"
     ]
    }
   ],
   "source": [
    "# SOLID Principles in Python\n",
    "\n",
    "# 1. Single Responsibility Principle (SRP)\n",
    "class EmailSender:\n",
    "    def send_email(self, message):\n",
    "        \"\"\"Responsible only for sending emails\"\"\"\n",
    "        # Email sending logic\n",
    "        print(f\"Sending email: {message}\")\n",
    "\n",
    "class EmailValidator:\n",
    "    def validate_email(self, email):\n",
    "        \"\"\"Responsible only for email validation\"\"\"\n",
    "        return '@' in email and '.' in email\n",
    "\n",
    "# 2. Open/Closed Principle (OCP)\n",
    "class Shape:\n",
    "    def calculate_area(self):\n",
    "        \"\"\"Open for extension, closed for modification\"\"\"\n",
    "        raise NotImplementedError(\"Subclasses must implement this method\")\n",
    "\n",
    "class Rectangle(Shape):\n",
    "    def __init__(self, width, height):\n",
    "        self.width = width\n",
    "        self.height = height\n",
    "    \n",
    "    def calculate_area(self):\n",
    "        return self.width * self.height\n",
    "\n",
    "class Circle(Shape):\n",
    "    def __init__(self, radius):\n",
    "        self.radius = radius\n",
    "    \n",
    "    def calculate_area(self):\n",
    "        return 3.14 * self.radius ** 2\n",
    "\n",
    "# 3. Liskov Substitution Principle (LSP)\n",
    "class Bird:\n",
    "    def fly(self):\n",
    "        pass\n",
    "\n",
    "class Eagle(Bird):\n",
    "    def fly(self):\n",
    "        print(\"Eagle is flying high\")\n",
    "\n",
    "class Penguin(Bird):\n",
    "    def fly(self):\n",
    "        # Violates LSP - Penguins can't fly\n",
    "        raise NotImplementedError(\"Penguins cannot fly\")\n",
    "\n",
    "# 4. Interface Segregation Principle (ISP)\n",
    "from abc import ABC, abstractmethod\n",
    "\n",
    "class Printer(ABC):\n",
    "    @abstractmethod\n",
    "    def print(self, document):\n",
    "        pass\n",
    "\n",
    "class Scanner(ABC):\n",
    "    @abstractmethod\n",
    "    def scan(self, document):\n",
    "        pass\n",
    "\n",
    "class MultiFunctionPrinter(Printer, Scanner):\n",
    "    def print(self, document):\n",
    "        print(f\"Printing: {document}\")\n",
    "    \n",
    "    def scan(self, document):\n",
    "        print(f\"Scanning: {document}\")\n",
    "\n",
    "class SimplePrinter(Printer):\n",
    "    def print(self, document):\n",
    "        print(f\"Printing: {document}\")\n",
    "\n",
    "# 5. Dependency Inversion Principle (DIP)\n",
    "class MessageService(ABC):\n",
    "    @abstractmethod\n",
    "    def send(self, message):\n",
    "        pass\n",
    "\n",
    "class EmailService(MessageService):\n",
    "    def send(self, message):\n",
    "        print(f\"Sending email: {message}\")\n",
    "\n",
    "class SMSService(MessageService):\n",
    "    def send(self, message):\n",
    "        print(f\"Sending SMS: {message}\")\n",
    "\n",
    "class NotificationService:\n",
    "    def __init__(self, message_service: MessageService):\n",
    "        self.message_service = message_service\n",
    "    \n",
    "    def send_notification(self, message):\n",
    "        self.message_service.send(message)\n",
    "\n",
    "# Example usage\n",
    "def demonstrate_solid_principles():\n",
    "    # Single Responsibility Principle\n",
    "    email_sender = EmailSender()\n",
    "    email_validator = EmailValidator()\n",
    "    print(\"Email is valid:\", email_validator.validate_email(\"test@example.com\"))\n",
    "    email_sender.send_email(\"Hello, World!\")\n",
    "\n",
    "    # Open/Closed Principle\n",
    "    shapes = [Rectangle(5, 3), Circle(4)]\n",
    "    for shape in shapes:\n",
    "        print(f\"Area: {shape.calculate_area()}\")\n",
    "\n",
    "    # Dependency Inversion Principle\n",
    "    email_notification = NotificationService(EmailService())\n",
    "    sms_notification = NotificationService(SMSService())\n",
    "    \n",
    "    email_notification.send_notification(\"Email notification\")\n",
    "    sms_notification.send_notification(\"SMS notification\")\n",
    "\n",
    "# Run the demonstration\n",
    "demonstrate_solid_principles()"
   ]
  },
  {
   "cell_type": "code",
   "execution_count": null,
   "id": "fceff421-ab2e-4825-b8fc-5e4c1f4ce440",
   "metadata": {},
   "outputs": [],
   "source": []
  },
  {
   "cell_type": "markdown",
   "id": "473b9594-3daf-4851-8dab-700448bf6116",
   "metadata": {},
   "source": [
    "# design patterns \n",
    "\n",
    "I'll break down the design patterns demonstrated in this example:\n",
    "\n",
    "## Singleton Pattern:\n",
    "\n",
    "Ensures a class has only one instance\\\n",
    "Provides a global point of access to that instance\\\n",
    "Uses thread-safe implementation with double-checked locking\n",
    "\n",
    "\n",
    "## Factory Method Pattern:\n",
    "\n",
    "Provides an interface for creating objects\\\n",
    "Allows subclasses to alter the type of objects that will be created\\\n",
    "Decouples object creation logic from the code that uses the object\n",
    "\n",
    "\n",
    "## Builder Pattern:\n",
    "\n",
    "Separates the construction of a complex object from its representation\\\n",
    "Allows step-by-step construction of an object\\\n",
    "Provides more control over the construction process\n",
    "\n",
    "\n",
    "## Adapter Pattern:\n",
    "\n",
    "Allows incompatible interfaces to work together\\\n",
    "Converts the interface of a class into another interface clients expect\\\n",
    "Enables classes to work together that couldn't otherwise due to incompatible interfaces\n",
    "\n",
    "\n",
    "## Observer Pattern:\n",
    "\n",
    "Defines a one-to-many dependency between objects\\\n",
    "When one object changes state, all its dependents are notified and updated automatically\\\n",
    "Promotes loose coupling between the subject and observers\n",
    "\n",
    "\n",
    "## Strategy Pattern:\n",
    "\n",
    "Defines a family of algorithms\\\n",
    "Encapsulates each algorithm\\\n",
    "Makes the algorithms interchangeable within that family\n",
    "\n",
    "\n",
    "\n",
    "## Each pattern solves a specific design problem:\n",
    "\n",
    "Singleton: Ensuring a single, global instance\\\n",
    "Factory: Flexible object creation\\\n",
    "Builder: Complex object construction\\\n",
    "Adapter: Interface compatibility\\\n",
    "Observer: Loose coupling and event handling\\\n",
    "Strategy: Interchangeable algorithms"
   ]
  },
  {
   "cell_type": "code",
   "execution_count": 3,
   "id": "c9086b02-b700-4e37-a379-aa4cc379c286",
   "metadata": {},
   "outputs": [
    {
     "name": "stdout",
     "output_type": "stream",
     "text": [
      "\n",
      "--- Singleton Pattern ---\n",
      "Singleton instances are the same: True\n",
      "\n",
      "--- Factory Method Pattern ---\n",
      "Dog speaks: Woof!\n",
      "Cat speaks: Meow!\n",
      "\n",
      "--- Builder Pattern ---\n",
      "Pizza: Pizza with thin dough, tomato sauce, and cheese topping\n",
      "\n",
      "--- Adapter Pattern ---\n",
      "Adapted socket voltage: 110\n",
      "\n",
      "--- Observer Pattern ---\n",
      "Observer A: Reacted to the state change: New State\n",
      "Observer B: Reacted to the state change: New State\n",
      "\n",
      "--- Strategy Pattern ---\n",
      "Bubble Sort: [1, 2, 5, 7, 9]\n",
      "Quick Sort: [9, 7, 5, 2, 1]\n"
     ]
    }
   ],
   "source": [
    "import copy\n",
    "import json\n",
    "from abc import ABC, abstractmethod\n",
    "from typing import List, Dict, Any\n",
    "import threading\n",
    "import time\n",
    "import random\n",
    "\n",
    "# 1. Singleton Pattern\n",
    "class Singleton:\n",
    "    _instance = None\n",
    "    _lock = threading.Lock()\n",
    "\n",
    "    def __new__(cls):\n",
    "        if not cls._instance:\n",
    "            with cls._lock:\n",
    "                # Double-checked locking\n",
    "                if not cls._instance:\n",
    "                    cls._instance = super().__new__(cls)\n",
    "        return cls._instance\n",
    "\n",
    "    def __init__(self):\n",
    "        # Ensure initialization happens only once\n",
    "        if not hasattr(self, 'initialized'):\n",
    "            self.data = {}\n",
    "            self.initialized = True\n",
    "\n",
    "# 2. Factory Method Pattern\n",
    "class Animal(ABC):\n",
    "    @abstractmethod\n",
    "    def speak(self):\n",
    "        pass\n",
    "\n",
    "class Dog(Animal):\n",
    "    def speak(self):\n",
    "        return \"Woof!\"\n",
    "\n",
    "class Cat(Animal):\n",
    "    def speak(self):\n",
    "        return \"Meow!\"\n",
    "\n",
    "class AnimalFactory:\n",
    "    @staticmethod\n",
    "    def create_animal(animal_type: str) -> Animal:\n",
    "        animal_types = {\n",
    "            \"dog\": Dog(),\n",
    "            \"cat\": Cat()\n",
    "        }\n",
    "        return animal_types.get(animal_type, None)\n",
    "\n",
    "# 3. Builder Pattern\n",
    "class Pizza:\n",
    "    def __init__(self):\n",
    "        self.dough = None\n",
    "        self.sauce = None\n",
    "        self.topping = None\n",
    "\n",
    "    def __str__(self):\n",
    "        return f\"Pizza with {self.dough} dough, {self.sauce} sauce, and {self.topping} topping\"\n",
    "\n",
    "class PizzaBuilder:\n",
    "    def __init__(self):\n",
    "        self.pizza = Pizza()\n",
    "\n",
    "    def add_dough(self, dough: str):\n",
    "        self.pizza.dough = dough\n",
    "        return self\n",
    "\n",
    "    def add_sauce(self, sauce: str):\n",
    "        self.pizza.sauce = sauce\n",
    "        return self\n",
    "\n",
    "    def add_topping(self, topping: str):\n",
    "        self.pizza.topping = topping\n",
    "        return self\n",
    "\n",
    "    def build(self):\n",
    "        return self.pizza\n",
    "\n",
    "# 4. Adapter Pattern\n",
    "class EuropeanSocketInterface(ABC):\n",
    "    @abstractmethod\n",
    "    def voltage(self): pass\n",
    "    @abstractmethod\n",
    "    def live(self): pass\n",
    "    @abstractmethod\n",
    "    def neutral(self): pass\n",
    "    @abstractmethod\n",
    "    def earth(self): pass\n",
    "\n",
    "class USASocketInterface(ABC):\n",
    "    @abstractmethod\n",
    "    def voltage(self): pass\n",
    "    @abstractmethod\n",
    "    def live(self): pass\n",
    "    @abstractmethod\n",
    "    def neutral(self): pass\n",
    "\n",
    "class EuropeanSocket(EuropeanSocketInterface):\n",
    "    def voltage(self):\n",
    "        return 230\n",
    "\n",
    "    def live(self):\n",
    "        return 1\n",
    "\n",
    "    def neutral(self):\n",
    "        return -1\n",
    "\n",
    "    def earth(self):\n",
    "        return 0\n",
    "\n",
    "class USASocket(USASocketInterface):\n",
    "    def voltage(self):\n",
    "        return 120\n",
    "\n",
    "    def live(self):\n",
    "        return 1\n",
    "\n",
    "    def neutral(self):\n",
    "        return -1\n",
    "\n",
    "class SocketAdapter(USASocketInterface):\n",
    "    def __init__(self, socket: EuropeanSocket):\n",
    "        self._socket = socket\n",
    "\n",
    "    def voltage(self):\n",
    "        return 110  # Convert 230V to 110V\n",
    "\n",
    "    def live(self):\n",
    "        return self._socket.live()\n",
    "\n",
    "    def neutral(self):\n",
    "        return self._socket.neutral()\n",
    "\n",
    "# 5. Observer Pattern\n",
    "class Subject:\n",
    "    def __init__(self):\n",
    "        self._observers: List[Observer] = []\n",
    "        self._state = None\n",
    "\n",
    "    def attach(self, observer):\n",
    "        self._observers.append(observer)\n",
    "\n",
    "    def notify(self):\n",
    "        for observer in self._observers:\n",
    "            observer.update(self._state)\n",
    "\n",
    "    def set_state(self, state):\n",
    "        self._state = state\n",
    "        self.notify()\n",
    "\n",
    "class Observer(ABC):\n",
    "    @abstractmethod\n",
    "    def update(self, state):\n",
    "        pass\n",
    "\n",
    "class ConcreteObserverA(Observer):\n",
    "    def update(self, state):\n",
    "        print(f\"Observer A: Reacted to the state change: {state}\")\n",
    "\n",
    "class ConcreteObserverB(Observer):\n",
    "    def update(self, state):\n",
    "        print(f\"Observer B: Reacted to the state change: {state}\")\n",
    "\n",
    "# 6. Strategy Pattern\n",
    "class SortStrategy(ABC):\n",
    "    @abstractmethod\n",
    "    def sort(self, dataset: List[int]) -> List[int]:\n",
    "        pass\n",
    "\n",
    "class BubbleSort(SortStrategy):\n",
    "    def sort(self, dataset: List[int]) -> List[int]:\n",
    "        return sorted(dataset)  # Simplified for demonstration\n",
    "\n",
    "class QuickSort(SortStrategy):\n",
    "    def sort(self, dataset: List[int]) -> List[int]:\n",
    "        return sorted(dataset, reverse=True)  # Simplified for demonstration\n",
    "\n",
    "class Sorter:\n",
    "    def __init__(self, sort_strategy: SortStrategy):\n",
    "        self._sort_strategy = sort_strategy\n",
    "\n",
    "    def set_strategy(self, sort_strategy: SortStrategy):\n",
    "        self._sort_strategy = sort_strategy\n",
    "\n",
    "    def sort(self, dataset: List[int]) -> List[int]:\n",
    "        return self._sort_strategy.sort(dataset)\n",
    "\n",
    "# Demonstration function\n",
    "def demonstrate_design_patterns():\n",
    "    # 1. Singleton Pattern\n",
    "    print(\"\\n--- Singleton Pattern ---\")\n",
    "    singleton1 = Singleton()\n",
    "    singleton2 = Singleton()\n",
    "    print(\"Singleton instances are the same:\", singleton1 is singleton2)\n",
    "\n",
    "    # 2. Factory Method Pattern\n",
    "    print(\"\\n--- Factory Method Pattern ---\")\n",
    "    dog = AnimalFactory.create_animal(\"dog\")\n",
    "    cat = AnimalFactory.create_animal(\"cat\")\n",
    "    print(\"Dog speaks:\", dog.speak())\n",
    "    print(\"Cat speaks:\", cat.speak())\n",
    "\n",
    "    # 3. Builder Pattern\n",
    "    print(\"\\n--- Builder Pattern ---\")\n",
    "    pizza = (PizzaBuilder()\n",
    "             .add_dough(\"thin\")\n",
    "             .add_sauce(\"tomato\")\n",
    "             .add_topping(\"cheese\")\n",
    "             .build())\n",
    "    print(\"Pizza:\", pizza)\n",
    "\n",
    "    # 4. Adapter Pattern\n",
    "    print(\"\\n--- Adapter Pattern ---\")\n",
    "    euro_socket = EuropeanSocket()\n",
    "    adapter = SocketAdapter(euro_socket)\n",
    "    print(\"Adapted socket voltage:\", adapter.voltage())\n",
    "\n",
    "    # 5. Observer Pattern\n",
    "    print(\"\\n--- Observer Pattern ---\")\n",
    "    subject = Subject()\n",
    "    observer_a = ConcreteObserverA()\n",
    "    observer_b = ConcreteObserverB()\n",
    "    subject.attach(observer_a)\n",
    "    subject.attach(observer_b)\n",
    "    subject.set_state(\"New State\")\n",
    "\n",
    "    # 6. Strategy Pattern\n",
    "    print(\"\\n--- Strategy Pattern ---\")\n",
    "    dataset = [5, 2, 9, 1, 7]\n",
    "    sorter = Sorter(BubbleSort())\n",
    "    print(\"Bubble Sort:\", sorter.sort(dataset))\n",
    "    \n",
    "    sorter.set_strategy(QuickSort())\n",
    "    print(\"Quick Sort:\", sorter.sort(dataset))\n",
    "\n",
    "# Run the demonstration\n",
    "demonstrate_design_patterns()"
   ]
  },
  {
   "cell_type": "code",
   "execution_count": null,
   "id": "1373b3d8-bdf8-40b8-b065-48c33fa210f0",
   "metadata": {},
   "outputs": [],
   "source": []
  }
 ],
 "metadata": {
  "kernelspec": {
   "display_name": "Python 3 (ipykernel)",
   "language": "python",
   "name": "python3"
  },
  "language_info": {
   "codemirror_mode": {
    "name": "ipython",
    "version": 3
   },
   "file_extension": ".py",
   "mimetype": "text/x-python",
   "name": "python",
   "nbconvert_exporter": "python",
   "pygments_lexer": "ipython3",
   "version": "3.10.11"
  }
 },
 "nbformat": 4,
 "nbformat_minor": 5
}
