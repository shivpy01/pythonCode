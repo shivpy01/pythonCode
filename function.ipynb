{
 "cells": [
  {
   "cell_type": "code",
   "execution_count": 34,
   "id": "aa279035-b253-4ae5-ab97-38e0364308da",
   "metadata": {},
   "outputs": [
    {
     "data": {
      "text/plain": [
       "11"
      ]
     },
     "execution_count": 34,
     "metadata": {},
     "output_type": "execute_result"
    }
   ],
   "source": [
    "def getSum(*a): # a is variable length arg\n",
    "    s = 0\n",
    "    for i in a:\n",
    "        s += i\n",
    "    return s\n",
    "\n",
    "getSum(1,2,3,5)"
   ]
  },
  {
   "cell_type": "code",
   "execution_count": 35,
   "id": "2a796aa1-79a5-46ec-900d-21ae8468aee4",
   "metadata": {},
   "outputs": [
    {
     "data": {
      "text/plain": [
       "'shivam good afternoon'"
      ]
     },
     "execution_count": 35,
     "metadata": {},
     "output_type": "execute_result"
    }
   ],
   "source": [
    "def greet(name, q = \"good morning\"): # q is default arg\n",
    "    return name+\" \"+q\n",
    "\n",
    "greet(\"shivam\", \"good afternoon\")"
   ]
  },
  {
   "cell_type": "code",
   "execution_count": 36,
   "id": "3d2359cd-b2fd-4ef5-9574-7e8d1dcfd5b1",
   "metadata": {},
   "outputs": [
    {
     "name": "stdout",
     "output_type": "stream",
     "text": [
      "shivam is singh \n",
      "elon is musk \n"
     ]
    }
   ],
   "source": [
    "def printLastName(**kwargs): # kwargs is keyword arg\n",
    "    for k,v in kwargs.items():\n",
    "        print(\"{} is {} \".format(k,v) )\n",
    " \n",
    "printLastName(shivam=\"singh\", elon = \"musk\")"
   ]
  },
  {
   "cell_type": "code",
   "execution_count": 37,
   "id": "7407ac6b-b29f-4de9-b4fb-af0abe66db16",
   "metadata": {},
   "outputs": [
    {
     "name": "stdout",
     "output_type": "stream",
     "text": [
      "hi shivam\n",
      "happy 22th birthday\n"
     ]
    }
   ],
   "source": [
    "def positionalArg(name,age):\n",
    "    print(f\"hi {name}\")\n",
    "    print(f\"happy {age}th birthday\")\n",
    "positionalArg(\"shivam\",22)"
   ]
  },
  {
   "cell_type": "code",
   "execution_count": 38,
   "id": "4707d958-5e85-45db-9a5a-4c3913231b97",
   "metadata": {},
   "outputs": [
    {
     "name": "stdout",
     "output_type": "stream",
     "text": [
      "elon is running\n"
     ]
    }
   ],
   "source": [
    "def run(name = \"shivam\"):\n",
    "    print(\"{} is running\".format(name))\n",
    "    \n",
    "activity = run\n",
    "\n",
    "activity(\"elon\")"
   ]
  },
  {
   "cell_type": "code",
   "execution_count": 39,
   "id": "ee97b482-3c8c-4c18-a1b9-04255497abbb",
   "metadata": {},
   "outputs": [
    {
     "name": "stdout",
     "output_type": "stream",
     "text": [
      "hi elon\n"
     ]
    }
   ],
   "source": [
    "x = lambda y: f\"hi {y}\" # here y is argument.\n",
    "\n",
    "print(x(\"elon\")) "
   ]
  },
  {
   "cell_type": "code",
   "execution_count": 4,
   "id": "12fde8a7-cda0-4017-8160-a2a8fc46b8ab",
   "metadata": {},
   "outputs": [
    {
     "name": "stdout",
     "output_type": "stream",
     "text": [
      "hi shivam\n"
     ]
    }
   ],
   "source": [
    "z = lambda : \"hi shivam\" # lambda without argument.\n",
    "print(z())"
   ]
  },
  {
   "cell_type": "code",
   "execution_count": null,
   "id": "93ce1ab4-0853-46c9-b571-3a68d12f9fbe",
   "metadata": {},
   "outputs": [],
   "source": []
  }
 ],
 "metadata": {
  "kernelspec": {
   "display_name": "Python 3 (ipykernel)",
   "language": "python",
   "name": "python3"
  },
  "language_info": {
   "codemirror_mode": {
    "name": "ipython",
    "version": 3
   },
   "file_extension": ".py",
   "mimetype": "text/x-python",
   "name": "python",
   "nbconvert_exporter": "python",
   "pygments_lexer": "ipython3",
   "version": "3.10.11"
  }
 },
 "nbformat": 4,
 "nbformat_minor": 5
}
